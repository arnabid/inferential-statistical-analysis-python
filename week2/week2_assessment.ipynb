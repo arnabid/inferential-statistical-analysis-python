{
 "cells": [
  {
   "cell_type": "markdown",
   "metadata": {
    "colab_type": "text",
    "id": "8BYZBHWdMyV4"
   },
   "source": [
    "## Creating confidence intervals in python\n",
    "In this assessment, you will look at data from a study on toddler sleep habits. \n",
    "\n",
    "The confidence intervals you create and the questions you answer in this Jupyter notebook will be used to answer questions in the following graded assignment."
   ]
  },
  {
   "cell_type": "markdown",
   "metadata": {},
   "source": [
    "**IMPORTANT NOTE**: In this assessment, you will need to calculate a standard deviation. The Numpy and Pandas libraries both include a function or method to peform this calculation. But they use different values for a parameter called the Degrees of Freedom or DDOF. The value of DDOF to use for this assignment is 0.\n",
    "\n",
    "**Numpy**\n",
    "\n",
    "The numpy.std() uses a default DDOF of 0. Using numpy.std() is recommended for this assignment because it already uses the appropriate DDOF.\n",
    "\n",
    "https://numpy.org/doc/stable/reference/generated/numpy.std.html\n",
    "\n",
    "**Pandas**\n",
    "\n",
    "The pandas.dataframe.std uses a default DDOF of 1, which is NOT appropriate for this assigment. If you want to use pandas.dataframe.std then you need to set the DDOF parameter argument to 0.\n",
    "\n",
    "https://pandas.pydata.org/pandas-docs/stable/reference/api/pandas.DataFrame.std.html"
   ]
  },
  {
   "cell_type": "code",
   "execution_count": 6,
   "metadata": {
    "colab": {},
    "colab_type": "code",
    "id": "XgFyiBR-MyV6"
   },
   "outputs": [],
   "source": [
    "import numpy as np\n",
    "import pandas as pd\n",
    "from scipy.stats import t\n",
    "pd.set_option('display.max_columns', 30) # set so can see all columns of the DataFrame\n",
    "\n",
    "from IPython.core.interactiveshell import InteractiveShell\n",
    "InteractiveShell.ast_node_interactivity = \"all\""
   ]
  },
  {
   "cell_type": "markdown",
   "metadata": {
    "colab_type": "text",
    "id": "Tdw2MXJrMyWA"
   },
   "source": [
    "Your goal is to analyse data which is the result of a study that examined\n",
    "differences in a number of sleep variables between napping and non-napping toddlers. Some of these\n",
    "sleep variables included: Bedtime (lights-off time in decimalized time), Night Sleep Onset Time (in\n",
    "decimalized time), Wake Time (sleep end time in decimalized time), Night Sleep Duration (interval\n",
    "between sleep onset and sleep end in minutes), and Total 24-Hour Sleep Duration (in minutes). Note:\n",
    "[Decimalized time](https://en.wikipedia.org/wiki/Decimal_time) is the representation of the time of day using units which are decimally related.   \n",
    "\n",
    "\n",
    "The 20 study participants were healthy, normally developing toddlers with no sleep or behavioral\n",
    "problems. These children were categorized as napping or non-napping based upon parental report of\n",
    "children’s habitual sleep patterns. Researchers then verified napping status with data from actigraphy (a\n",
    "non-invasive method of monitoring human rest/activity cycles by wearing of a sensor on the wrist) and\n",
    "sleep diaries during the 5 days before the study assessments were made.\n",
    "\n",
    "\n",
    "You are specifically interested in the results for the Bedtime, Night Sleep Duration, and Total 24-\n",
    "Hour Sleep Duration. "
   ]
  },
  {
   "cell_type": "markdown",
   "metadata": {
    "colab_type": "text",
    "id": "qZeYAvHRMyWC"
   },
   "source": [
    "Reference: Akacem LD, Simpkin CT, Carskadon MA, Wright KP Jr, Jenni OG, Achermann P, et al. (2015) The Timing of the Circadian Clock and Sleep Differ between Napping and Non-Napping Toddlers. PLoS ONE 10(4): e0125181. https://doi.org/10.1371/journal.pone.0125181"
   ]
  },
  {
   "cell_type": "code",
   "execution_count": 64,
   "metadata": {
    "colab": {},
    "colab_type": "code",
    "id": "tY3EqOuoMyWD"
   },
   "outputs": [],
   "source": [
    "# Import the data (use this if running your Jupyter notebook within Coursera)\n",
    "df = pd.read_csv(\"nap_no_nap.csv\") "
   ]
  },
  {
   "cell_type": "code",
   "execution_count": 3,
   "metadata": {
    "colab": {},
    "colab_type": "code",
    "id": "fwjXqqBrM4zZ"
   },
   "outputs": [],
   "source": [
    "# Imort the data (uncomment the line below and use this if you downloaded the Jupyter notebook)\n",
    "# df = pd.read_csv(\"https://raw.githubusercontent.com/UMstatspy/UMStatsPy/master/Course_2/nap_no_nap.csv\")"
   ]
  },
  {
   "cell_type": "code",
   "execution_count": 35,
   "metadata": {},
   "outputs": [
    {
     "data": {
      "text/plain": [
       "629.4"
      ]
     },
     "execution_count": 35,
     "metadata": {},
     "output_type": "execute_result"
    }
   ],
   "source": [
    "60*(24 - 20.68 + 7.17)"
   ]
  },
  {
   "cell_type": "code",
   "execution_count": 13,
   "metadata": {
    "colab": {},
    "colab_type": "code",
    "id": "pcjLN7goMyWH"
   },
   "outputs": [
    {
     "data": {
      "text/html": [
       "<div>\n",
       "<style scoped>\n",
       "    .dataframe tbody tr th:only-of-type {\n",
       "        vertical-align: middle;\n",
       "    }\n",
       "\n",
       "    .dataframe tbody tr th {\n",
       "        vertical-align: top;\n",
       "    }\n",
       "\n",
       "    .dataframe thead th {\n",
       "        text-align: right;\n",
       "    }\n",
       "</style>\n",
       "<table border=\"1\" class=\"dataframe\">\n",
       "  <thead>\n",
       "    <tr style=\"text-align: right;\">\n",
       "      <th></th>\n",
       "      <th>id</th>\n",
       "      <th>sex</th>\n",
       "      <th>age (months)</th>\n",
       "      <th>dlmo time</th>\n",
       "      <th>days napped</th>\n",
       "      <th>napping</th>\n",
       "      <th>nap lights outl time</th>\n",
       "      <th>nap sleep onset</th>\n",
       "      <th>nap midsleep</th>\n",
       "      <th>nap sleep offset</th>\n",
       "      <th>nap wake time</th>\n",
       "      <th>nap duration</th>\n",
       "      <th>nap time in bed</th>\n",
       "      <th>night bedtime</th>\n",
       "      <th>night sleep onset</th>\n",
       "      <th>sleep onset latency</th>\n",
       "      <th>night midsleep time</th>\n",
       "      <th>night wake time</th>\n",
       "      <th>night sleep duration</th>\n",
       "      <th>night time in bed</th>\n",
       "      <th>24 h sleep duration</th>\n",
       "      <th>bedtime phase difference</th>\n",
       "      <th>sleep onset phase difference</th>\n",
       "      <th>midsleep phase difference</th>\n",
       "      <th>wake time phase difference</th>\n",
       "    </tr>\n",
       "  </thead>\n",
       "  <tbody>\n",
       "    <tr>\n",
       "      <th>0</th>\n",
       "      <td>1</td>\n",
       "      <td>female</td>\n",
       "      <td>33.7</td>\n",
       "      <td>19.24</td>\n",
       "      <td>0</td>\n",
       "      <td>0</td>\n",
       "      <td>NaN</td>\n",
       "      <td>NaN</td>\n",
       "      <td>NaN</td>\n",
       "      <td>NaN</td>\n",
       "      <td>NaN</td>\n",
       "      <td>NaN</td>\n",
       "      <td>NaN</td>\n",
       "      <td>20.45</td>\n",
       "      <td>20.68</td>\n",
       "      <td>0.23</td>\n",
       "      <td>1.92</td>\n",
       "      <td>7.17</td>\n",
       "      <td>629.4</td>\n",
       "      <td>643.0</td>\n",
       "      <td>629.40</td>\n",
       "      <td>-1.21</td>\n",
       "      <td>-1.44</td>\n",
       "      <td>6.68</td>\n",
       "      <td>11.93</td>\n",
       "    </tr>\n",
       "    <tr>\n",
       "      <th>1</th>\n",
       "      <td>2</td>\n",
       "      <td>female</td>\n",
       "      <td>31.5</td>\n",
       "      <td>18.27</td>\n",
       "      <td>0</td>\n",
       "      <td>0</td>\n",
       "      <td>NaN</td>\n",
       "      <td>NaN</td>\n",
       "      <td>NaN</td>\n",
       "      <td>NaN</td>\n",
       "      <td>NaN</td>\n",
       "      <td>NaN</td>\n",
       "      <td>NaN</td>\n",
       "      <td>19.23</td>\n",
       "      <td>19.48</td>\n",
       "      <td>0.25</td>\n",
       "      <td>1.09</td>\n",
       "      <td>6.69</td>\n",
       "      <td>672.4</td>\n",
       "      <td>700.4</td>\n",
       "      <td>672.40</td>\n",
       "      <td>-0.96</td>\n",
       "      <td>-1.21</td>\n",
       "      <td>6.82</td>\n",
       "      <td>12.42</td>\n",
       "    </tr>\n",
       "    <tr>\n",
       "      <th>2</th>\n",
       "      <td>3</td>\n",
       "      <td>male</td>\n",
       "      <td>31.9</td>\n",
       "      <td>19.14</td>\n",
       "      <td>0</td>\n",
       "      <td>0</td>\n",
       "      <td>NaN</td>\n",
       "      <td>NaN</td>\n",
       "      <td>NaN</td>\n",
       "      <td>NaN</td>\n",
       "      <td>NaN</td>\n",
       "      <td>NaN</td>\n",
       "      <td>NaN</td>\n",
       "      <td>19.60</td>\n",
       "      <td>20.05</td>\n",
       "      <td>0.45</td>\n",
       "      <td>1.29</td>\n",
       "      <td>6.53</td>\n",
       "      <td>628.8</td>\n",
       "      <td>682.6</td>\n",
       "      <td>628.80</td>\n",
       "      <td>-0.46</td>\n",
       "      <td>-0.91</td>\n",
       "      <td>6.15</td>\n",
       "      <td>11.39</td>\n",
       "    </tr>\n",
       "    <tr>\n",
       "      <th>3</th>\n",
       "      <td>4</td>\n",
       "      <td>female</td>\n",
       "      <td>31.6</td>\n",
       "      <td>19.69</td>\n",
       "      <td>0</td>\n",
       "      <td>0</td>\n",
       "      <td>NaN</td>\n",
       "      <td>NaN</td>\n",
       "      <td>NaN</td>\n",
       "      <td>NaN</td>\n",
       "      <td>NaN</td>\n",
       "      <td>NaN</td>\n",
       "      <td>NaN</td>\n",
       "      <td>19.46</td>\n",
       "      <td>19.50</td>\n",
       "      <td>0.05</td>\n",
       "      <td>1.89</td>\n",
       "      <td>8.28</td>\n",
       "      <td>766.6</td>\n",
       "      <td>784.0</td>\n",
       "      <td>766.60</td>\n",
       "      <td>0.23</td>\n",
       "      <td>0.19</td>\n",
       "      <td>6.20</td>\n",
       "      <td>12.59</td>\n",
       "    </tr>\n",
       "    <tr>\n",
       "      <th>4</th>\n",
       "      <td>5</td>\n",
       "      <td>female</td>\n",
       "      <td>33.0</td>\n",
       "      <td>19.52</td>\n",
       "      <td>0</td>\n",
       "      <td>0</td>\n",
       "      <td>NaN</td>\n",
       "      <td>NaN</td>\n",
       "      <td>NaN</td>\n",
       "      <td>NaN</td>\n",
       "      <td>NaN</td>\n",
       "      <td>NaN</td>\n",
       "      <td>NaN</td>\n",
       "      <td>19.21</td>\n",
       "      <td>19.65</td>\n",
       "      <td>0.45</td>\n",
       "      <td>1.30</td>\n",
       "      <td>6.95</td>\n",
       "      <td>678.0</td>\n",
       "      <td>718.0</td>\n",
       "      <td>678.00</td>\n",
       "      <td>0.31</td>\n",
       "      <td>-0.13</td>\n",
       "      <td>5.78</td>\n",
       "      <td>11.43</td>\n",
       "    </tr>\n",
       "    <tr>\n",
       "      <th>5</th>\n",
       "      <td>6</td>\n",
       "      <td>female</td>\n",
       "      <td>36.2</td>\n",
       "      <td>18.22</td>\n",
       "      <td>4</td>\n",
       "      <td>1</td>\n",
       "      <td>14.00</td>\n",
       "      <td>14.22</td>\n",
       "      <td>15.00</td>\n",
       "      <td>15.78</td>\n",
       "      <td>16.28</td>\n",
       "      <td>93.75</td>\n",
       "      <td>137.0</td>\n",
       "      <td>19.95</td>\n",
       "      <td>20.25</td>\n",
       "      <td>0.29</td>\n",
       "      <td>1.26</td>\n",
       "      <td>6.28</td>\n",
       "      <td>602.2</td>\n",
       "      <td>653.8</td>\n",
       "      <td>695.95</td>\n",
       "      <td>-1.73</td>\n",
       "      <td>-2.03</td>\n",
       "      <td>7.05</td>\n",
       "      <td>12.06</td>\n",
       "    </tr>\n",
       "    <tr>\n",
       "      <th>6</th>\n",
       "      <td>7</td>\n",
       "      <td>male</td>\n",
       "      <td>36.3</td>\n",
       "      <td>19.28</td>\n",
       "      <td>1</td>\n",
       "      <td>1</td>\n",
       "      <td>14.75</td>\n",
       "      <td>15.03</td>\n",
       "      <td>15.92</td>\n",
       "      <td>16.80</td>\n",
       "      <td>16.08</td>\n",
       "      <td>106.00</td>\n",
       "      <td>80.0</td>\n",
       "      <td>20.60</td>\n",
       "      <td>20.96</td>\n",
       "      <td>0.36</td>\n",
       "      <td>2.12</td>\n",
       "      <td>7.27</td>\n",
       "      <td>618.4</td>\n",
       "      <td>655.4</td>\n",
       "      <td>724.40</td>\n",
       "      <td>-1.32</td>\n",
       "      <td>-1.68</td>\n",
       "      <td>6.84</td>\n",
       "      <td>11.99</td>\n",
       "    </tr>\n",
       "    <tr>\n",
       "      <th>7</th>\n",
       "      <td>8</td>\n",
       "      <td>male</td>\n",
       "      <td>30.0</td>\n",
       "      <td>21.06</td>\n",
       "      <td>5</td>\n",
       "      <td>1</td>\n",
       "      <td>13.09</td>\n",
       "      <td>13.43</td>\n",
       "      <td>14.44</td>\n",
       "      <td>15.46</td>\n",
       "      <td>15.82</td>\n",
       "      <td>121.60</td>\n",
       "      <td>163.8</td>\n",
       "      <td>22.01</td>\n",
       "      <td>22.53</td>\n",
       "      <td>0.51</td>\n",
       "      <td>2.92</td>\n",
       "      <td>7.31</td>\n",
       "      <td>526.8</td>\n",
       "      <td>582.4</td>\n",
       "      <td>648.40</td>\n",
       "      <td>-0.95</td>\n",
       "      <td>-1.47</td>\n",
       "      <td>5.86</td>\n",
       "      <td>10.25</td>\n",
       "    </tr>\n",
       "  </tbody>\n",
       "</table>\n",
       "</div>"
      ],
      "text/plain": [
       "   id     sex  age (months)  dlmo time  days napped  napping  \\\n",
       "0   1  female          33.7      19.24            0        0   \n",
       "1   2  female          31.5      18.27            0        0   \n",
       "2   3    male          31.9      19.14            0        0   \n",
       "3   4  female          31.6      19.69            0        0   \n",
       "4   5  female          33.0      19.52            0        0   \n",
       "5   6  female          36.2      18.22            4        1   \n",
       "6   7    male          36.3      19.28            1        1   \n",
       "7   8    male          30.0      21.06            5        1   \n",
       "\n",
       "   nap lights outl time  nap sleep onset  nap midsleep  nap sleep offset  \\\n",
       "0                   NaN              NaN           NaN               NaN   \n",
       "1                   NaN              NaN           NaN               NaN   \n",
       "2                   NaN              NaN           NaN               NaN   \n",
       "3                   NaN              NaN           NaN               NaN   \n",
       "4                   NaN              NaN           NaN               NaN   \n",
       "5                 14.00            14.22         15.00             15.78   \n",
       "6                 14.75            15.03         15.92             16.80   \n",
       "7                 13.09            13.43         14.44             15.46   \n",
       "\n",
       "   nap wake time  nap duration  nap time in bed  night bedtime  \\\n",
       "0            NaN           NaN              NaN          20.45   \n",
       "1            NaN           NaN              NaN          19.23   \n",
       "2            NaN           NaN              NaN          19.60   \n",
       "3            NaN           NaN              NaN          19.46   \n",
       "4            NaN           NaN              NaN          19.21   \n",
       "5          16.28         93.75            137.0          19.95   \n",
       "6          16.08        106.00             80.0          20.60   \n",
       "7          15.82        121.60            163.8          22.01   \n",
       "\n",
       "   night sleep onset  sleep onset latency  night midsleep time  \\\n",
       "0              20.68                 0.23                 1.92   \n",
       "1              19.48                 0.25                 1.09   \n",
       "2              20.05                 0.45                 1.29   \n",
       "3              19.50                 0.05                 1.89   \n",
       "4              19.65                 0.45                 1.30   \n",
       "5              20.25                 0.29                 1.26   \n",
       "6              20.96                 0.36                 2.12   \n",
       "7              22.53                 0.51                 2.92   \n",
       "\n",
       "   night wake time  night sleep duration  night time in bed  \\\n",
       "0             7.17                 629.4              643.0   \n",
       "1             6.69                 672.4              700.4   \n",
       "2             6.53                 628.8              682.6   \n",
       "3             8.28                 766.6              784.0   \n",
       "4             6.95                 678.0              718.0   \n",
       "5             6.28                 602.2              653.8   \n",
       "6             7.27                 618.4              655.4   \n",
       "7             7.31                 526.8              582.4   \n",
       "\n",
       "   24 h sleep duration  bedtime phase difference  \\\n",
       "0               629.40                     -1.21   \n",
       "1               672.40                     -0.96   \n",
       "2               628.80                     -0.46   \n",
       "3               766.60                      0.23   \n",
       "4               678.00                      0.31   \n",
       "5               695.95                     -1.73   \n",
       "6               724.40                     -1.32   \n",
       "7               648.40                     -0.95   \n",
       "\n",
       "   sleep onset phase difference  midsleep phase difference  \\\n",
       "0                         -1.44                       6.68   \n",
       "1                         -1.21                       6.82   \n",
       "2                         -0.91                       6.15   \n",
       "3                          0.19                       6.20   \n",
       "4                         -0.13                       5.78   \n",
       "5                         -2.03                       7.05   \n",
       "6                         -1.68                       6.84   \n",
       "7                         -1.47                       5.86   \n",
       "\n",
       "   wake time phase difference  \n",
       "0                       11.93  \n",
       "1                       12.42  \n",
       "2                       11.39  \n",
       "3                       12.59  \n",
       "4                       11.43  \n",
       "5                       12.06  \n",
       "6                       11.99  \n",
       "7                       10.25  "
      ]
     },
     "execution_count": 13,
     "metadata": {},
     "output_type": "execute_result"
    }
   ],
   "source": [
    "# First, look at the DataFrame to get a sense of the data\n",
    "df.head(8)"
   ]
  },
  {
   "cell_type": "markdown",
   "metadata": {
    "colab_type": "text",
    "id": "38Oy8dWVMyWM"
   },
   "source": [
    "**Question**: What variable is used in the column 'napping' to indicate a toddler takes a nap? 1  \n",
    "**Question**: What is the sample size $n$? What is the sample size for toddlers who nap, $n_1$, and toddlers who don't nap, $n_2$?  \n",
    "$n_1$ = 15,\n",
    "$n_2$ = 5"
   ]
  },
  {
   "cell_type": "code",
   "execution_count": 47,
   "metadata": {},
   "outputs": [
    {
     "data": {
      "text/plain": [
       "1    15\n",
       "0     5\n",
       "Name: napping, dtype: int64"
      ]
     },
     "execution_count": 47,
     "metadata": {},
     "output_type": "execute_result"
    }
   ],
   "source": [
    "df['napping'].value_counts()"
   ]
  },
  {
   "cell_type": "code",
   "execution_count": 29,
   "metadata": {},
   "outputs": [
    {
     "data": {
      "text/plain": [
       "Index(['id', 'sex', 'age (months)', 'dlmo time', 'days napped', 'napping',\n",
       "       'nap lights outl time', 'nap sleep onset', 'nap midsleep',\n",
       "       'nap sleep offset', 'nap wake time', 'nap duration', 'nap time in bed',\n",
       "       'night bedtime', 'night sleep onset', 'sleep onset latency',\n",
       "       'night midsleep time', 'night wake time', 'night sleep duration',\n",
       "       'night time in bed', '24 h sleep duration', 'bedtime phase difference',\n",
       "       'sleep onset phase difference', 'midsleep phase difference',\n",
       "       'wake time phase difference'],\n",
       "      dtype='object')"
      ]
     },
     "execution_count": 29,
     "metadata": {},
     "output_type": "execute_result"
    }
   ],
   "source": [
    "df.columns"
   ]
  },
  {
   "cell_type": "markdown",
   "metadata": {
    "colab_type": "text",
    "id": "2sPjUew6MyWN"
   },
   "source": [
    "### Average bedtime confidence interval for napping and non napping toddlers\n",
    "Create two 95% confidence intervals for the average bedtime, one for toddler who nap and one for toddlers who don't."
   ]
  },
  {
   "cell_type": "markdown",
   "metadata": {
    "colab_type": "text",
    "id": "_iZTqL5EMyWO"
   },
   "source": [
    "Before any analysis, we will convert 'night bedtime' into decimalized time."
   ]
  },
  {
   "cell_type": "code",
   "execution_count": 34,
   "metadata": {},
   "outputs": [
    {
     "data": {
      "text/plain": [
       "473.4"
      ]
     },
     "execution_count": 34,
     "metadata": {},
     "output_type": "execute_result"
    }
   ],
   "source": [
    "t = 7.89\n",
    "np.floor(t)*60 + np.round(t%1,2 )*60"
   ]
  },
  {
   "cell_type": "code",
   "execution_count": 48,
   "metadata": {
    "colab": {},
    "colab_type": "code",
    "id": "oE5uq5tPMyWP"
   },
   "outputs": [],
   "source": [
    "# Convert 'night bedtime' into decimalized time\n",
    "# 'night_bedtime' is the time when the toddlers went to sleep\n",
    "df.loc[:,'night bedtime'] = np.floor(df['night bedtime'])*60 + np.round(df['night bedtime']%1,2 )*60"
   ]
  },
  {
   "cell_type": "markdown",
   "metadata": {
    "colab_type": "text",
    "id": "u4kYFl3OMyWR"
   },
   "source": [
    "Now, isolate the column 'night bedtime' for those who nap into a new variable, and those who didn't nap into another new variable. "
   ]
  },
  {
   "cell_type": "code",
   "execution_count": 65,
   "metadata": {
    "colab": {},
    "colab_type": "code",
    "id": "umYCPgifMyWT"
   },
   "outputs": [],
   "source": [
    "bedtime_nap = df[df['napping'] == 1]['night bedtime']"
   ]
  },
  {
   "cell_type": "code",
   "execution_count": 66,
   "metadata": {
    "colab": {},
    "colab_type": "code",
    "id": "Jgv1CweOMyWU"
   },
   "outputs": [],
   "source": [
    "bedtime_no_nap = df[df['napping'] == 0]['night bedtime']"
   ]
  },
  {
   "cell_type": "markdown",
   "metadata": {
    "colab_type": "text",
    "id": "w7D04IiqMyWX"
   },
   "source": [
    "Now find the sample mean bedtime for nap and no_nap."
   ]
  },
  {
   "cell_type": "code",
   "execution_count": 67,
   "metadata": {
    "colab": {},
    "colab_type": "code",
    "id": "ukpOHZk9MyWZ"
   },
   "outputs": [
    {
     "data": {
      "text/plain": [
       "20.304"
      ]
     },
     "execution_count": 67,
     "metadata": {},
     "output_type": "execute_result"
    }
   ],
   "source": [
    "nap_mean_bedtime = np.mean(bedtime_nap)\n",
    "nap_mean_bedtime"
   ]
  },
  {
   "cell_type": "code",
   "execution_count": 68,
   "metadata": {
    "colab": {},
    "colab_type": "code",
    "id": "S16eWcwrMyWc"
   },
   "outputs": [
    {
     "data": {
      "text/plain": [
       "19.590000000000003"
      ]
     },
     "execution_count": 68,
     "metadata": {},
     "output_type": "execute_result"
    }
   ],
   "source": [
    "no_nap_mean_bedtime = np.mean(bedtime_no_nap)\n",
    "no_nap_mean_bedtime"
   ]
  },
  {
   "cell_type": "markdown",
   "metadata": {
    "colab_type": "text",
    "id": "Gsyq63z9MyWf"
   },
   "source": [
    "Now find the standard error for $\\bar{X}_{nap}$ and $\\bar{X}_{no\\ nap}$."
   ]
  },
  {
   "cell_type": "code",
   "execution_count": 69,
   "metadata": {},
   "outputs": [],
   "source": [
    "import math"
   ]
  },
  {
   "cell_type": "code",
   "execution_count": 70,
   "metadata": {
    "colab": {},
    "colab_type": "code",
    "id": "CRkxL29UMyWg"
   },
   "outputs": [],
   "source": [
    "nap_std_bedtime = np.std(bedtime_nap)\n",
    "nap_se_mean_bedtime = nap_std_bedtime/math.sqrt(15)"
   ]
  },
  {
   "cell_type": "code",
   "execution_count": 71,
   "metadata": {
    "colab": {},
    "colab_type": "code",
    "id": "mMaluR9uMyWj"
   },
   "outputs": [],
   "source": [
    "no_nap_std_bedtime = np.std(bedtime_no_nap)\n",
    "no_nap_se_mean_bedtime = no_nap_std_bedtime/math.sqrt(5)"
   ]
  },
  {
   "cell_type": "markdown",
   "metadata": {
    "colab_type": "text",
    "id": "RaMARY4aMyWl"
   },
   "source": [
    "**Question**: Given our sample sizes of $n_1$ and $n_2$ for napping and non napping toddlers respectively, how many degrees of freedom ($df$) are there for the associated $t$ distributions?"
   ]
  },
  {
   "cell_type": "markdown",
   "metadata": {
    "colab_type": "text",
    "id": "7MLtPm0LMyWm"
   },
   "source": [
    "To build a 95% confidence interval, what is the value of t\\*?  You can find this value using the percent point function: \n",
    "```\n",
    "from scipy.stats import t\n",
    "\n",
    "t.ppf(probabiliy, df)\n",
    "```\n",
    "This will return the quantile value such that to the left of this value, the tail probabiliy is equal to the input probabiliy (for the specified degrees of freedom). "
   ]
  },
  {
   "cell_type": "markdown",
   "metadata": {
    "colab_type": "text",
    "id": "oTOR6oRFMyWm"
   },
   "source": [
    "Example: to find the $t^*$ for a 90% confidence interval, we want $t^*$ such that 90% of the density of the $t$ distribution lies between $-t^*$ and $t^*$.\n",
    "\n",
    "Or in other words if $X \\sim t(df)$:\n",
    "```\n",
    "$P(-t^*< X < t^*) = .90$  \n",
    "```\n",
    "Which, because the $t$ distribution is symmetric, is equivalent to finding $t^*$ such that:  \n",
    "```\n",
    "$P(X < t^*) = .95$\n",
    "```\n",
    "So the $t^*$ for a 90% confidence interval, and lets say df=10, will be:\n",
    "```\n",
    "t_star = t.ppf(.95, df=10)\n",
    "```"
   ]
  },
  {
   "cell_type": "code",
   "execution_count": 72,
   "metadata": {
    "colab": {},
    "colab_type": "code",
    "id": "swHZqQ9LMyWo"
   },
   "outputs": [
    {
     "data": {
      "text/plain": [
       "2.1447866879169273"
      ]
     },
     "execution_count": 72,
     "metadata": {},
     "output_type": "execute_result"
    }
   ],
   "source": [
    "from scipy.stats import t\n",
    "# Find the t_stars for the 95% confidence intervals\n",
    "nap_t_star = t.ppf(0.975, df=14)\n",
    "nap_t_star"
   ]
  },
  {
   "cell_type": "code",
   "execution_count": 73,
   "metadata": {
    "colab": {},
    "colab_type": "code",
    "id": "ZwKnTJbPMyWq"
   },
   "outputs": [
    {
     "data": {
      "text/plain": [
       "2.7764451051977987"
      ]
     },
     "execution_count": 73,
     "metadata": {},
     "output_type": "execute_result"
    }
   ],
   "source": [
    "no_nap_t_star = t.ppf(0.975, df=4)\n",
    "no_nap_t_star"
   ]
  },
  {
   "cell_type": "markdown",
   "metadata": {},
   "source": [
    "##### check if the t* values make sense?"
   ]
  },
  {
   "cell_type": "markdown",
   "metadata": {
    "colab_type": "text",
    "id": "AnhhDXMbMyWs"
   },
   "source": [
    "**Quesion**: What is $t^*$ for nap and no nap?"
   ]
  },
  {
   "cell_type": "markdown",
   "metadata": {
    "colab_type": "text",
    "id": "WeTPNMzRMyWt"
   },
   "source": [
    "Now to create our confidence intervals. For the average bedtime for nap and no nap, find the upper and lower bounds for the respective confidence intervals."
   ]
  },
  {
   "cell_type": "code",
   "execution_count": 74,
   "metadata": {
    "colab": {},
    "colab_type": "code",
    "id": "k3iNowvfMyWv"
   },
   "outputs": [
    {
     "name": "stdout",
     "output_type": "stream",
     "text": [
      "The 95% confidence interval for average bedtime for napping toddlers is (19.98777958674484, 20.620220413255158)\n",
      "The 95% confidence interval for average bedtime for non-napping toddlers is (19.026279074956577, 20.15372092504343)\n"
     ]
    }
   ],
   "source": [
    "# nap\n",
    "\n",
    "nap_lcb = nap_mean_bedtime - nap_t_star * nap_se_mean_bedtime\n",
    "nap_ucb = nap_mean_bedtime + nap_t_star * nap_se_mean_bedtime\n",
    "print(f\"The 95% confidence interval for average bedtime for napping toddlers is {nap_lcb, nap_ucb}\")\n",
    "\n",
    "\n",
    "\n",
    "# no - nap\n",
    "no_nap_lcb = no_nap_mean_bedtime - no_nap_t_star * no_nap_se_mean_bedtime\n",
    "no_nap_ucb = no_nap_mean_bedtime + no_nap_t_star * no_nap_se_mean_bedtime\n",
    "print(f\"The 95% confidence interval for average bedtime for non-napping toddlers is {no_nap_lcb, no_nap_ucb}\")"
   ]
  },
  {
   "cell_type": "markdown",
   "metadata": {
    "colab_type": "text",
    "id": "3skLkWyyMyWy"
   },
   "source": [
    "**Question**: What are the 95% confidence intervals, rounded to the nearest ten, for the average bedtime (in decimalized time) for toddlers who nap and for toddlers who don't nap? \n",
    "\n",
    "CI = $\\bar{X} \\pm \\ t^* \\cdot s.e.(\\bar{X})$"
   ]
  },
  {
   "cell_type": "markdown",
   "metadata": {
    "colab_type": "text",
    "id": "nYk7J42NMyWz"
   },
   "source": [
    "**Challenge problem**: Write a function that inputs the column containing the data you want to build your confidence interval from and returns the confidence interval as a list or tuple (i.e. \\[upper, lowe\\] or (upper, lower))."
   ]
  },
  {
   "cell_type": "code",
   "execution_count": 0,
   "metadata": {
    "colab": {},
    "colab_type": "code",
    "id": "T0fOYCZ3MyW2"
   },
   "outputs": [],
   "source": []
  }
 ],
 "metadata": {
  "colab": {
   "collapsed_sections": [],
   "name": "Confidence intervals assessment.ipynb",
   "provenance": [],
   "version": "0.3.2"
  },
  "kernelspec": {
   "display_name": "Python 3",
   "language": "python",
   "name": "python3"
  },
  "language_info": {
   "codemirror_mode": {
    "name": "ipython",
    "version": 3
   },
   "file_extension": ".py",
   "mimetype": "text/x-python",
   "name": "python",
   "nbconvert_exporter": "python",
   "pygments_lexer": "ipython3",
   "version": "3.6.3"
  }
 },
 "nbformat": 4,
 "nbformat_minor": 1
}
