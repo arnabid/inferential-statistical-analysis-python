{
  "nbformat": 4,
  "nbformat_minor": 0,
  "metadata": {
    "kernelspec": {
      "display_name": "Python 3",
      "language": "python",
      "name": "python3"
    },
    "language_info": {
      "codemirror_mode": {
        "name": "ipython",
        "version": 3
      },
      "file_extension": ".py",
      "mimetype": "text/x-python",
      "name": "python",
      "nbconvert_exporter": "python",
      "pygments_lexer": "ipython3",
      "version": "3.6.3"
    },
    "colab": {
      "name": "intro_confidenceintervals.ipynb",
      "provenance": []
    }
  },
  "cells": [
    {
      "cell_type": "markdown",
      "metadata": {
        "id": "uSCcDPeSsZoO",
        "colab_type": "text"
      },
      "source": [
        "## Statistical Inference with Confidence Intervals\n",
        "\n",
        "Throughout week 2, we have explored the concept of confidence intervals, how to calculate them, interpret them, and what confidence really means.  \n",
        "\n",
        "In this tutorial, we're going to review how to calculate confidence intervals of population proportions and means.\n",
        "\n",
        "To begin, let's go over some of the material from this week and why confidence intervals are useful tools when deriving insights from data.\n",
        "\n",
        "### Why Confidence Intervals?\n",
        "\n",
        "Confidence intervals are a calculated range or boundary around a parameter or a statistic that is supported mathematically with a certain level of confidence.  For example, in the lecture, we estimated, with 95% confidence, that the population proportion of parents with a toddler that use a car seat for all travel with their toddler was somewhere between 82.2% and 87.7%.\n",
        "\n",
        "This is *__different__* than having a 95% probability that the true population proportion is within our confidence interval.\n",
        "\n",
        "Essentially, if we were to repeat this process, 95% of our calculated confidence intervals would contain the true proportion.\n",
        "\n",
        "### How are Confidence Intervals Calculated?\n",
        "\n",
        "Our equation for calculating confidence intervals is as follows:\n",
        "\n",
        "$$Best\\ Estimate \\pm Margin\\ of\\ Error$$\n",
        "\n",
        "Where the *Best Estimate* is the **observed population proportion or mean** and the *Margin of Error* is the **t-multiplier**.\n",
        "\n",
        "The t-multiplier is calculated based on the degrees of freedom and desired confidence level.  For samples with more than 30 observations and a confidence level of 95%, the t-multiplier is 1.96\n",
        "\n",
        "The equation to create a 95% confidence interval can also be shown as:\n",
        "\n",
        "$$Population\\ Proportion\\ or\\ Mean\\ \\pm (t-multiplier *\\ Standard\\ Error)$$\n",
        "\n",
        "Lastly, the Standard Error is calculated differenly for population proportion and mean:\n",
        "\n",
        "$$Standard\\ Error \\ for\\ Population\\ Proportion = \\sqrt{\\frac{Population\\ Proportion * (1 - Population\\ Proportion)}{Number\\ Of\\ Observations}}$$\n",
        "\n",
        "$$Standard\\ Error \\ for\\ Mean = \\frac{Standard\\ Deviation}{\\sqrt{Number\\ Of\\ Observations}}$$\n",
        "\n",
        "Let's replicate the car seat example from lecture"
      ]
    },
    {
      "cell_type": "code",
      "metadata": {
        "id": "lDY2iKuDsZoQ",
        "colab_type": "code",
        "colab": {}
      },
      "source": [
        "import numpy as np"
      ],
      "execution_count": 0,
      "outputs": []
    },
    {
      "cell_type": "code",
      "metadata": {
        "id": "aKe2KwxFsZoU",
        "colab_type": "code",
        "colab": {},
        "outputId": "4789ae0f-28a6-4561-8b52-41a3950de697"
      },
      "source": [
        "zstar = 1.96\n",
        "p = .85\n",
        "n = 659\n",
        "\n",
        "se = np.sqrt((p * (1 - p))/n)\n",
        "se"
      ],
      "execution_count": 0,
      "outputs": [
        {
          "output_type": "execute_result",
          "data": {
            "text/plain": [
              "0.01390952774409444"
            ]
          },
          "metadata": {
            "tags": []
          },
          "execution_count": 15
        }
      ]
    },
    {
      "cell_type": "code",
      "metadata": {
        "id": "qul1Z9HZsZoZ",
        "colab_type": "code",
        "colab": {},
        "outputId": "f6860210-917a-4f7a-b69a-efa4708071d3"
      },
      "source": [
        "margin_error = zstar * se\n",
        "lcb = p - margin_error\n",
        "ucb = p + margin_error\n",
        "(lcb, ucb)"
      ],
      "execution_count": 0,
      "outputs": [
        {
          "output_type": "execute_result",
          "data": {
            "text/plain": [
              "(0.8227373256215749, 0.8772626743784251)"
            ]
          },
          "metadata": {
            "tags": []
          },
          "execution_count": 4
        }
      ]
    },
    {
      "cell_type": "code",
      "metadata": {
        "id": "KcmMDQfqsZoc",
        "colab_type": "code",
        "colab": {}
      },
      "source": [
        "import statsmodels.api as sm"
      ],
      "execution_count": 0,
      "outputs": []
    },
    {
      "cell_type": "code",
      "metadata": {
        "id": "BoVLJxkssZoi",
        "colab_type": "code",
        "colab": {},
        "outputId": "730158db-bca2-465c-9c47-f2399349e116"
      },
      "source": [
        "sm.stats.proportion_confint(n * p, n)"
      ],
      "execution_count": 0,
      "outputs": [
        {
          "output_type": "execute_result",
          "data": {
            "text/plain": [
              "(0.8227378265796143, 0.8772621734203857)"
            ]
          },
          "metadata": {
            "tags": []
          },
          "execution_count": 6
        }
      ]
    },
    {
      "cell_type": "markdown",
      "metadata": {
        "id": "Gui7FPkFsZom",
        "colab_type": "text"
      },
      "source": [
        "Now, lets take our Cartwheel dataset introduced in lecture and calculate a confidence interval for our mean cartwheel distance:"
      ]
    },
    {
      "cell_type": "code",
      "metadata": {
        "id": "rKYX53p_sZom",
        "colab_type": "code",
        "colab": {}
      },
      "source": [
        "import pandas as pd\n",
        "\n",
        "df = pd.read_csv(\"Cartwheeldata.csv\")"
      ],
      "execution_count": 0,
      "outputs": []
    },
    {
      "cell_type": "code",
      "metadata": {
        "id": "gEYs6s4osZor",
        "colab_type": "code",
        "colab": {},
        "outputId": "cd53039c-f7ea-4bcc-ee0a-e13f070d3406"
      },
      "source": [
        "df.head()"
      ],
      "execution_count": 0,
      "outputs": [
        {
          "output_type": "execute_result",
          "data": {
            "text/html": [
              "<div>\n",
              "<style scoped>\n",
              "    .dataframe tbody tr th:only-of-type {\n",
              "        vertical-align: middle;\n",
              "    }\n",
              "\n",
              "    .dataframe tbody tr th {\n",
              "        vertical-align: top;\n",
              "    }\n",
              "\n",
              "    .dataframe thead th {\n",
              "        text-align: right;\n",
              "    }\n",
              "</style>\n",
              "<table border=\"1\" class=\"dataframe\">\n",
              "  <thead>\n",
              "    <tr style=\"text-align: right;\">\n",
              "      <th></th>\n",
              "      <th>ID</th>\n",
              "      <th>Age</th>\n",
              "      <th>Gender</th>\n",
              "      <th>GenderGroup</th>\n",
              "      <th>Glasses</th>\n",
              "      <th>GlassesGroup</th>\n",
              "      <th>Height</th>\n",
              "      <th>Wingspan</th>\n",
              "      <th>CWDistance</th>\n",
              "      <th>Complete</th>\n",
              "      <th>CompleteGroup</th>\n",
              "      <th>Score</th>\n",
              "    </tr>\n",
              "  </thead>\n",
              "  <tbody>\n",
              "    <tr>\n",
              "      <th>0</th>\n",
              "      <td>1</td>\n",
              "      <td>56</td>\n",
              "      <td>F</td>\n",
              "      <td>1</td>\n",
              "      <td>Y</td>\n",
              "      <td>1</td>\n",
              "      <td>62.0</td>\n",
              "      <td>61.0</td>\n",
              "      <td>79</td>\n",
              "      <td>Y</td>\n",
              "      <td>1</td>\n",
              "      <td>7</td>\n",
              "    </tr>\n",
              "    <tr>\n",
              "      <th>1</th>\n",
              "      <td>2</td>\n",
              "      <td>26</td>\n",
              "      <td>F</td>\n",
              "      <td>1</td>\n",
              "      <td>Y</td>\n",
              "      <td>1</td>\n",
              "      <td>62.0</td>\n",
              "      <td>60.0</td>\n",
              "      <td>70</td>\n",
              "      <td>Y</td>\n",
              "      <td>1</td>\n",
              "      <td>8</td>\n",
              "    </tr>\n",
              "    <tr>\n",
              "      <th>2</th>\n",
              "      <td>3</td>\n",
              "      <td>33</td>\n",
              "      <td>F</td>\n",
              "      <td>1</td>\n",
              "      <td>Y</td>\n",
              "      <td>1</td>\n",
              "      <td>66.0</td>\n",
              "      <td>64.0</td>\n",
              "      <td>85</td>\n",
              "      <td>Y</td>\n",
              "      <td>1</td>\n",
              "      <td>7</td>\n",
              "    </tr>\n",
              "    <tr>\n",
              "      <th>3</th>\n",
              "      <td>4</td>\n",
              "      <td>39</td>\n",
              "      <td>F</td>\n",
              "      <td>1</td>\n",
              "      <td>N</td>\n",
              "      <td>0</td>\n",
              "      <td>64.0</td>\n",
              "      <td>63.0</td>\n",
              "      <td>87</td>\n",
              "      <td>Y</td>\n",
              "      <td>1</td>\n",
              "      <td>10</td>\n",
              "    </tr>\n",
              "    <tr>\n",
              "      <th>4</th>\n",
              "      <td>5</td>\n",
              "      <td>27</td>\n",
              "      <td>M</td>\n",
              "      <td>2</td>\n",
              "      <td>N</td>\n",
              "      <td>0</td>\n",
              "      <td>73.0</td>\n",
              "      <td>75.0</td>\n",
              "      <td>72</td>\n",
              "      <td>N</td>\n",
              "      <td>0</td>\n",
              "      <td>4</td>\n",
              "    </tr>\n",
              "  </tbody>\n",
              "</table>\n",
              "</div>"
            ],
            "text/plain": [
              "   ID  Age Gender  GenderGroup Glasses  GlassesGroup  Height  Wingspan  \\\n",
              "0   1   56      F            1       Y             1    62.0      61.0   \n",
              "1   2   26      F            1       Y             1    62.0      60.0   \n",
              "2   3   33      F            1       Y             1    66.0      64.0   \n",
              "3   4   39      F            1       N             0    64.0      63.0   \n",
              "4   5   27      M            2       N             0    73.0      75.0   \n",
              "\n",
              "   CWDistance Complete  CompleteGroup  Score  \n",
              "0          79        Y              1      7  \n",
              "1          70        Y              1      8  \n",
              "2          85        Y              1      7  \n",
              "3          87        Y              1     10  \n",
              "4          72        N              0      4  "
            ]
          },
          "metadata": {
            "tags": []
          },
          "execution_count": 18
        }
      ]
    },
    {
      "cell_type": "code",
      "metadata": {
        "id": "6THFSHbrsZow",
        "colab_type": "code",
        "colab": {},
        "outputId": "9691fbe7-035c-4362-b0a8-55bc1cd0b868"
      },
      "source": [
        "mean = df[\"CWDistance\"].mean()\n",
        "sd = df[\"CWDistance\"].std()\n",
        "n = len(df)\n",
        "\n",
        "n"
      ],
      "execution_count": 0,
      "outputs": [
        {
          "output_type": "execute_result",
          "data": {
            "text/plain": [
              "25"
            ]
          },
          "metadata": {
            "tags": []
          },
          "execution_count": 19
        }
      ]
    },
    {
      "cell_type": "code",
      "metadata": {
        "id": "6CLzFgBTsZoz",
        "colab_type": "code",
        "colab": {},
        "outputId": "9efee667-e186-4374-9401-bfc244057cc5"
      },
      "source": [
        "tstar = 2.064\n",
        "zstar = 1.96\n",
        "\n",
        "se = sd/np.sqrt(n)\n",
        "\n",
        "se"
      ],
      "execution_count": 0,
      "outputs": [
        {
          "output_type": "execute_result",
          "data": {
            "text/plain": [
              "3.0117104774529704"
            ]
          },
          "metadata": {
            "tags": []
          },
          "execution_count": 20
        }
      ]
    },
    {
      "cell_type": "code",
      "metadata": {
        "id": "c-6bYziasZo3",
        "colab_type": "code",
        "colab": {},
        "outputId": "0bd0f5d5-f132-40f6-b65f-a65250323884"
      },
      "source": [
        "lcb = mean - tstar * se\n",
        "ucb = mean + tstar * se\n",
        "(lcb, ucb)"
      ],
      "execution_count": 0,
      "outputs": [
        {
          "output_type": "execute_result",
          "data": {
            "text/plain": [
              "(76.26382957453707, 88.69617042546294)"
            ]
          },
          "metadata": {
            "tags": []
          },
          "execution_count": 22
        }
      ]
    },
    {
      "cell_type": "code",
      "metadata": {
        "id": "P0zmCYrvsZo6",
        "colab_type": "code",
        "colab": {},
        "outputId": "2948daf7-c597-4e55-9cce-6ea354d297d8"
      },
      "source": [
        "lcb = mean - zstar * se\n",
        "ucb = mean + zstar * se\n",
        "(lcb, ucb)"
      ],
      "execution_count": 0,
      "outputs": [
        {
          "output_type": "execute_result",
          "data": {
            "text/plain": [
              "(76.57704746419218, 88.38295253580783)"
            ]
          },
          "metadata": {
            "tags": []
          },
          "execution_count": 23
        }
      ]
    },
    {
      "cell_type": "code",
      "metadata": {
        "id": "Tu7zPueCsZo9",
        "colab_type": "code",
        "colab": {},
        "outputId": "f216822a-f63e-4cbe-c07d-cfea02d20346"
      },
      "source": [
        "sm.stats.DescrStatsW(df[\"CWDistance\"]).zconfint_mean()"
      ],
      "execution_count": 0,
      "outputs": [
        {
          "output_type": "execute_result",
          "data": {
            "text/plain": [
              "(76.57715593233024, 88.38284406766977)"
            ]
          },
          "metadata": {
            "tags": []
          },
          "execution_count": 24
        }
      ]
    },
    {
      "cell_type": "code",
      "metadata": {
        "id": "GmyEQPhZsZpB",
        "colab_type": "code",
        "colab": {}
      },
      "source": [
        ""
      ],
      "execution_count": 0,
      "outputs": []
    }
  ]
}